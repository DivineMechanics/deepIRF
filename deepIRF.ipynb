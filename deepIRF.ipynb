{
  "nbformat": 4,
  "nbformat_minor": 0,
  "metadata": {
    "colab": {
      "name": "deepIRF.ipynb",
      "provenance": [],
      "collapsed_sections": []
    },
    "kernelspec": {
      "name": "python3",
      "display_name": "Python 3"
    },
    "accelerator": "GPU"
  },
  "cells": [
    {
      "cell_type": "markdown",
      "metadata": {
        "id": "MzIawhz0wiTZ"
      },
      "source": [
        "# author: Danny Petschke\r\n",
        "# date:   2021-01-21"
      ]
    },
    {
      "cell_type": "markdown",
      "metadata": {
        "id": "DUtKTH26z_Qu"
      },
      "source": [
        "* import required modules and connect to the GPU runtime"
      ]
    },
    {
      "cell_type": "code",
      "metadata": {
        "colab": {
          "base_uri": "https://localhost:8080/"
        },
        "id": "pCXK5l3IGh4F",
        "outputId": "ece2927a-728a-40d2-a506-bf1ed95089d8"
      },
      "source": [
        "from __future__ import print_function\r\n",
        "\r\n",
        "import numpy as np, h5py\r\n",
        "import matplotlib.pyplot as plt\r\n",
        "import random\r\n",
        "from joblib import dump, load\r\n",
        "import os, time, sys\r\n",
        "\r\n",
        "import tensorflow as tf\r\n",
        "\r\n",
        "from keras.models import Model, Sequential, model_from_json\r\n",
        "from keras.layers import BatchNormalization, Convolution2D, Input, SpatialDropout2D, UpSampling2D, UpSampling1D, MaxPooling2D, Multiply, LeakyReLU\r\n",
        "from keras.layers import Dense, Dropout, Conv1D, Conv2D, add, Conv3D, Reshape, Activation, Concatenate, AveragePooling1D, LeakyReLU, Flatten\r\n",
        "from keras.layers.advanced_activations import PReLU\r\n",
        "from keras.callbacks import History, EarlyStopping, ModelCheckpoint, CSVLogger\r\n",
        "from keras.optimizers import RMSprop, Adam\r\n",
        "from keras.utils import np_utils\r\n",
        "from keras.utils.vis_utils import plot_model\r\n",
        "from keras.initializers import RandomNormal\r\n",
        "\r\n",
        "# test for GPU runtime integration\r\n",
        "tf.test.gpu_device_name()\r\n",
        "\r\n",
        "from tensorflow.python.client import device_lib\r\n",
        "device_lib.list_local_devices()"
      ],
      "execution_count": 1,
      "outputs": [
        {
          "output_type": "execute_result",
          "data": {
            "text/plain": [
              "[name: \"/device:CPU:0\"\n",
              " device_type: \"CPU\"\n",
              " memory_limit: 268435456\n",
              " locality {\n",
              " }\n",
              " incarnation: 1105935822417801644, name: \"/device:GPU:0\"\n",
              " device_type: \"GPU\"\n",
              " memory_limit: 14638920512\n",
              " locality {\n",
              "   bus_id: 1\n",
              "   links {\n",
              "   }\n",
              " }\n",
              " incarnation: 12102191820921730555\n",
              " physical_device_desc: \"device: 0, name: Tesla T4, pci bus id: 0000:00:04.0, compute capability: 7.5\"]"
            ]
          },
          "metadata": {
            "tags": []
          },
          "execution_count": 1
        }
      ]
    },
    {
      "cell_type": "markdown",
      "metadata": {
        "id": "MWX1u3XYCmN-"
      },
      "source": [
        "* mount google drive if necessary\r\n",
        "\r\n"
      ]
    },
    {
      "cell_type": "code",
      "metadata": {
        "id": "4FykVCu9CdWH"
      },
      "source": [
        "from google.colab import drive\r\n",
        "\r\n",
        "drive.mount('/content/drive/My Drive')"
      ],
      "execution_count": null,
      "outputs": []
    },
    {
      "cell_type": "markdown",
      "metadata": {
        "id": "YQxmoutR_qlX"
      },
      "source": [
        "* define the network architecture"
      ]
    },
    {
      "cell_type": "code",
      "metadata": {
        "id": "BINrD1HqHX9L"
      },
      "source": [
        "# source of resblock_1D_BN(...): https://github.com/dpscience/DL4FLI\r\n",
        "\r\n",
        "def resblock_1D_BN(num_filters, size_filter, x):\r\n",
        "  Fx = Conv1D(num_filters, size_filter, padding='same', activation=None)(x)\r\n",
        "  Fx = BatchNormalization()(Fx)\r\n",
        "  Fx = Activation('relu')(Fx)\r\n",
        "  Fx = Conv1D(num_filters, size_filter, padding='same', activation=None)(Fx)\r\n",
        "  Fx = BatchNormalization()(Fx)\r\n",
        "  \r\n",
        "  output = add([Fx, x])\r\n",
        "  output = Activation('relu')(output)\r\n",
        "\r\n",
        "  return output\r\n",
        "\r\n",
        "def create_network(numberOfBins=25,\r\n",
        "                   kernel_size=3,\r\n",
        "                   strides=1,\r\n",
        "                   lr=0.00025):\r\n",
        "    init = RandomNormal(stddev=4.2) #'he_uniform'#\r\n",
        "\r\n",
        "    t_data_1  = Input(shape=(numberOfBins, 1)) # A\r\n",
        "    t_data_2  = Input(shape=(numberOfBins, 1)) # B\r\n",
        "    \r\n",
        "    # branch A (= pulse A)\r\n",
        "    layer_A=Conv1D(64, kernel_size=kernel_size, strides=strides, padding='same', kernel_initializer=init)(t_data_1) \r\n",
        "    layer_A=BatchNormalization()(layer_A)\r\n",
        "    layer_A=Activation('relu')(layer_A) # layer_A=PReLU()(layer_A) \r\n",
        "    layer_A=Conv1D(128, kernel_size=kernel_size, strides=strides, padding='same', kernel_initializer=init)(layer_A)\r\n",
        "    layer_A=BatchNormalization()(layer_A)\r\n",
        "    layer_A=Activation('relu')(layer_A) # layer_A=PReLU()(layer_A)\r\n",
        "    layer_A=Conv1D(256, kernel_size=kernel_size, strides=strides, padding='same', kernel_initializer=init)(layer_A)\r\n",
        "    layer_A=Activation('relu')(layer_A) # layer_A=PReLU()(layer_A)\r\n",
        "   \r\n",
        "    # branch B (= pulse B)\r\n",
        "    layer_B=Conv1D(64, kernel_size=kernel_size, strides=strides, padding='same', kernel_initializer=init)(t_data_2)\r\n",
        "    layer_B=BatchNormalization()(layer_B)\r\n",
        "    layer_B=Activation('relu')(layer_B) # layer_B=PReLU()(layer_B) \r\n",
        "    layer_B=Conv1D(128, kernel_size=kernel_size, strides=strides, padding='same', kernel_initializer=init)(layer_B)\r\n",
        "    layer_B=BatchNormalization()(layer_B)\r\n",
        "    layer_B=Activation('relu')(layer_B) # layer_B=PReLU()(layer_B)\r\n",
        "    layer_B=Conv1D(256, kernel_size=kernel_size, strides=strides, padding='same', kernel_initializer=init)(layer_B)\r\n",
        "    layer_B=Activation('relu')(layer_B) # layer_B=PReLU()(layer_B)\r\n",
        "\r\n",
        "    output_1 = Concatenate()([layer_A,layer_B,layer_A])\r\n",
        "    output_2 = Concatenate()([layer_B,layer_A,layer_B])\r\n",
        "\r\n",
        "    output = Concatenate()([output_1,output_2])\r\n",
        "\r\n",
        "    output = Flatten()(output)\r\n",
        "\r\n",
        "    output = Reshape(target_shape=(1,output.shape[1]))(output)\r\n",
        "    \r\n",
        "    # architecture from here according to https://github.com/dpscience/DL4FLI\r\n",
        "    output = Conv1D(256, 1, padding='same', activation=None, kernel_initializer=init)(output)\r\n",
        "    output = BatchNormalization()(output)\r\n",
        "    output = Activation('relu')(output)\r\n",
        "    output = Conv1D(256, 1, padding='same', activation=None, kernel_initializer=init)(output)\r\n",
        "    output = BatchNormalization()(output)\r\n",
        "    output = Activation('relu')(output) \r\n",
        "    output = resblock_1D_BN(256, 1, output)\r\n",
        "    output = resblock_1D_BN(256, 1, output)\r\n",
        "\r\n",
        "    output = Conv1D(128, 1, padding='same', activation=None, kernel_initializer=init)(output)\r\n",
        "    output = BatchNormalization()(output)\r\n",
        "    output = Activation('relu')(output)\r\n",
        "    output = Conv1D(64, 1, padding='same', activation=None, kernel_initializer=init)(output)\r\n",
        "    output = BatchNormalization()(output)\r\n",
        "    output = Activation('relu')(output)\r\n",
        "    \r\n",
        "    output = Flatten()(output)\r\n",
        "\r\n",
        "    output = Dense(1, activation='linear')(output)\r\n",
        "    output = Reshape(target_shape=(1,1))(output)\r\n",
        "\r\n",
        "    model = Model(inputs=[t_data_1,t_data_2], outputs=[output]) \r\n",
        "\r\n",
        "    optimizer = RMSprop(lr=lr)\r\n",
        "    model.compile(loss='mse', optimizer=optimizer, metrics=['mae']) \r\n",
        "\r\n",
        "    # print out the model architecture\r\n",
        "    model.summary()\r\n",
        "\r\n",
        "    return model"
      ],
      "execution_count": 2,
      "outputs": []
    },
    {
      "cell_type": "markdown",
      "metadata": {
        "id": "CPNvOw4EABI3"
      },
      "source": [
        "* load the provided dataset and define the fraction of data splitting into training & testing "
      ]
    },
    {
      "cell_type": "code",
      "metadata": {
        "colab": {
          "base_uri": "https://localhost:8080/"
        },
        "id": "EIAYE3Yare8v",
        "outputId": "2fb071f3-eb02-4540-e865-b291c4f391d7"
      },
      "source": [
        "# define where your data are stored and where to place the trained model subsequently ...\r\n",
        "directory = 'drive/My Drive/deepIRF/'\r\n",
        "\r\n",
        "# template name of the model to be saved during training or to be loaded for testing ...\r\n",
        "name_of_model = 'model'\r\n",
        "\r\n",
        "# define the fraction of testing data (this amount is not used during the training process) ...\r\n",
        "fraction_for_testing = 0.3 \r\n",
        "\r\n",
        "# load the data ... (X_data_1 = pulse A & X_data_2 = pulse B; Y_data = labels describing the time difference obtained between pulse B - pulse A at a certain CF level) ...\r\n",
        "numberOfCells,X_data_1,X_data_2,Y_data = load(directory + 'Co60_data_1024_1000000_pulses.h5') # 1 Mio. pulse-pairs consisting of 1024 sampling points for each pulse\r\n",
        "\r\n",
        "# adjust units from nanoseconds to picoseconds ...\r\n",
        "Y_data *= 1000. # ps\r\n",
        "\r\n",
        "# calc. center of mass ... (not necessary at all)\r\n",
        "cOfm = np.mean(Y_data)\r\n",
        "Y_data -= cOfm\r\n",
        "\r\n",
        "print('center of mass: {0} ps'.format(cOfm))\r\n",
        "\r\n",
        "# normalize data to the overall maximum amplitude ... (provides a better accuracy instead of normalizing each pulse to its amplitude)\r\n",
        "max_amp_A = np.amax(X_data_1)\r\n",
        "max_amp_B = np.amax(X_data_2)\r\n",
        "\r\n",
        "print('max. amplitude of A: {0}'.format(max_amp_A))\r\n",
        "print('max. amplitude of B: {0}'.format(max_amp_B))\r\n",
        "\r\n",
        "X_data_1 /= max_amp_A\r\n",
        "X_data_2 /= max_amp_B"
      ],
      "execution_count": 3,
      "outputs": [
        {
          "output_type": "stream",
          "text": [
            "center of mass: -1281.6578369140625 ps\n",
            "max. amplitude of A: 0.27241194248199463\n",
            "max. amplitude of B: 0.26910778880119324\n"
          ],
          "name": "stdout"
        }
      ]
    },
    {
      "cell_type": "markdown",
      "metadata": {
        "id": "rbn9Ka4Aydkw"
      },
      "source": [
        "* may visualize a fraction of loaded pulses ..."
      ]
    },
    {
      "cell_type": "code",
      "metadata": {
        "colab": {
          "base_uri": "https://localhost:8080/",
          "height": 265
        },
        "id": "1YLST30Aycvd",
        "outputId": "fd52b993-0b89-4045-8dc6-2c325776d7e9"
      },
      "source": [
        "for i in range(25):\r\n",
        "  plt.plot(X_data_1[i], 'b-', X_data_2[i], 'r-')"
      ],
      "execution_count": 8,
      "outputs": [
        {
          "output_type": "display_data",
          "data": {
            "image/png": "[encoded data removed]",
            "text/plain": [
              "<Figure size 432x288 with 1 Axes>"
            ]
          },
          "metadata": {
            "tags": [],
            "needs_background": "light"
          }
        }
      ]
    },
    {
      "cell_type": "markdown",
      "metadata": {
        "id": "s28U-oozqgls"
      },
      "source": [
        "* train the model"
      ]
    },
    {
      "cell_type": "code",
      "metadata": {
        "id": "cSwO7jPwHaGx"
      },
      "source": [
        "# define the model ...\r\n",
        "model = create_network(numberOfBins=numberOfCells, \r\n",
        "                       kernel_size = 11, \r\n",
        "                       strides     = 3, \r\n",
        "                       lr          = 0.0025) # learning rate of the optimizer\r\n",
        "    \r\n",
        "# setting patience ...\r\n",
        "earlyStopping = EarlyStopping(monitor  = 'val_loss', \r\n",
        "                              patience = 25, \r\n",
        "                              verbose  = 0,\r\n",
        "                              mode     = 'auto')\r\n",
        "\r\n",
        "# save loss curve (mse) and 'mae' over all trained epochs ...\r\n",
        "modelCheckPoint = ModelCheckpoint(filepath       = directory + name_of_model + '.h5', \r\n",
        "                                  monitor        = 'val_loss', \r\n",
        "                                  save_best_only = True, \r\n",
        "                                  verbose        = 0)\r\n",
        "    \r\n",
        "# train network (65/35 train-to-validation split) ...\r\n",
        "history = History()\r\n",
        "\r\n",
        "# number of training data ...\r\n",
        "N_train = int((1.-fraction_for_testing)*len(X_data_1))\r\n",
        "\r\n",
        "# log printout ...\r\n",
        "csv_logger = CSVLogger(directory + name_of_model +'_log.log')\r\n",
        "\r\n",
        "history = model.fit([X_data_1[:N_train],X_data_2[:N_train]],[Y_data[:N_train]], \r\n",
        "                    validation_split = 0.35,\r\n",
        "                    batch_size       = 20, \r\n",
        "                    epochs           = 500, \r\n",
        "                    verbose          = 1, \r\n",
        "                    shuffle          = True, \r\n",
        "                    callbacks        = [earlyStopping,csv_logger,modelCheckPoint])"
      ],
      "execution_count": null,
      "outputs": []
    },
    {
      "cell_type": "markdown",
      "metadata": {
        "id": "dqNbTmYTs0tv"
      },
      "source": [
        "* test the trained model on independant \"unseen\" data"
      ]
    },
    {
      "cell_type": "code",
      "metadata": {
        "colab": {
          "base_uri": "https://localhost:8080/",
          "height": 1000
        },
        "id": "ux-WEznH9w_f",
        "outputId": "30a78641-0bd5-4e3e-9942-66caa055f171"
      },
      "source": [
        "# number of testing data ...\r\n",
        "N_test  = int((fraction_for_testing)*len(X_data_1))\r\n",
        "\r\n",
        "# define the model architecture ...\r\n",
        "model = create_network(numberOfBins=numberOfCells,\r\n",
        "                       kernel_size = 11,\r\n",
        "                       strides     = 3,\r\n",
        "                       lr          = 0.00025)\r\n",
        "\r\n",
        "# load the weights of the prior trained model ...\r\n",
        "model.load_weights(directory + name_of_model + '.h5')\r\n",
        "\r\n",
        "# define number of bins for spectra visualization ...\r\n",
        "bins    = 16348                            # should be sufficiently smooth ;)\r\n",
        "N       = len(Y_data)                      # N-1 = last index of the loaded data set\r\n",
        "start_N = int((1.-fraction_for_testing)*N) # start index for testing data in loaded data set\r\n",
        "\r\n",
        "# determine boundings of the time axis ...\r\n",
        "_min_t = np.amin(Y_data[:N])\r\n",
        "_max_t = np.amax(Y_data[:N])\r\n",
        "\r\n",
        "# predict uncertainty on ALL data ...\r\n",
        "prediction = model.predict([X_data_1,X_data_2]) \r\n",
        "\r\n",
        "# allocate spectra ...\r\n",
        "irf_initial = np.zeros(bins) # spectrum according to the labels using 'Y_data'\r\n",
        "irf_pred    = np.zeros(bins) # spectrum according to the predicted values 'prediction'\r\n",
        "irf_diff    = np.zeros(bins) # spectrum according to the discrepancy between target and predicted value\r\n",
        "\r\n",
        "# time frame representing the bin ...\r\n",
        "d_t = np.abs(_max_t - _min_t)/float(bins-1)\r\n",
        "\r\n",
        "print('bin-width: {0} ps'.format(d_t))\r\n",
        "\r\n",
        "for i in range(start_N,N):\r\n",
        "  t = Y_data[i][0]\r\n",
        "  index = int((t-_min_t)/d_t)\r\n",
        "\r\n",
        "  if index >= bins or index < 0:\r\n",
        "    continue\r\n",
        "\r\n",
        "  irf_initial[index] = irf_initial[index] + 1\r\n",
        "\r\n",
        "  t_diff =  Y_data[i][0] - prediction[i][0][0]\r\n",
        "\r\n",
        "  index = int((t_diff-_min_t)/d_t)\r\n",
        "\r\n",
        "  if index >= bins or index < 0:\r\n",
        "    continue\r\n",
        "\r\n",
        "  irf_diff[index] = irf_diff[index] + 1\r\n",
        "\r\n",
        "  t_pred = prediction[i][0][0] \r\n",
        "\r\n",
        "  index = int((t_pred-_min_t)/d_t)\r\n",
        "\r\n",
        "  if index >= bins or index < 0:\r\n",
        "    continue\r\n",
        "\r\n",
        "  irf_pred[index] = irf_pred[index] + 1\r\n",
        "\r\n",
        "# normalize spectra for comparison ...\r\n",
        "irf_initial /= sum(irf_initial)\r\n",
        "irf_pred    /= sum(irf_pred)\r\n",
        "irf_diff    /= sum(irf_diff)\r\n",
        "\r\n",
        "irf_initial /= np.amax(irf_initial)\r\n",
        "irf_pred    /= np.amax(irf_pred)\r\n",
        "irf_diff    /= np.amax(irf_diff)\r\n",
        "\r\n",
        "plt.plot(irf_initial, 'bo', irf_pred, 'ro', irf_diff, 'go')\r\n",
        "\r\n",
        "# write results to text file ... \r\n",
        "np.savetxt(directory + 'irf_init.txt', irf_initial)\r\n",
        "np.savetxt(directory + 'irf_pred.txt', irf_pred)\r\n",
        "np.savetxt(directory + 'irf_diff.txt', irf_diff)"
      ],
      "execution_count": 9,
      "outputs": [
        {
          "output_type": "stream",
          "text": [
            "Model: \"model\"\n",
            "__________________________________________________________________________________________________\n",
            "Layer (type)                    Output Shape         Param #     Connected to                     \n",
            "==================================================================================================\n",
            "input_1 (InputLayer)            [(None, 1024, 1)]    0                                            \n",
            "__________________________________________________________________________________________________\n",
            "input_2 (InputLayer)            [(None, 1024, 1)]    0                                            \n",
            "__________________________________________________________________________________________________\n",
            "conv1d (Conv1D)                 (None, 342, 64)      768         input_1[0][0]                    \n",
            "__________________________________________________________________________________________________\n",
            "conv1d_3 (Conv1D)               (None, 342, 64)      768         input_2[0][0]                    \n",
            "__________________________________________________________________________________________________\n",
            "batch_normalization (BatchNorma (None, 342, 64)      256         conv1d[0][0]                     \n",
            "__________________________________________________________________________________________________\n",
            "batch_normalization_2 (BatchNor (None, 342, 64)      256         conv1d_3[0][0]                   \n",
            "__________________________________________________________________________________________________\n",
            "activation (Activation)         (None, 342, 64)      0           batch_normalization[0][0]        \n",
            "__________________________________________________________________________________________________\n",
            "activation_3 (Activation)       (None, 342, 64)      0           batch_normalization_2[0][0]      \n",
            "__________________________________________________________________________________________________\n",
            "conv1d_1 (Conv1D)               (None, 114, 128)     90240       activation[0][0]                 \n",
            "__________________________________________________________________________________________________\n",
            "conv1d_4 (Conv1D)               (None, 114, 128)     90240       activation_3[0][0]               \n",
            "__________________________________________________________________________________________________\n",
            "batch_normalization_1 (BatchNor (None, 114, 128)     512         conv1d_1[0][0]                   \n",
            "__________________________________________________________________________________________________\n",
            "batch_normalization_3 (BatchNor (None, 114, 128)     512         conv1d_4[0][0]                   \n",
            "__________________________________________________________________________________________________\n",
            "activation_1 (Activation)       (None, 114, 128)     0           batch_normalization_1[0][0]      \n",
            "__________________________________________________________________________________________________\n",
            "activation_4 (Activation)       (None, 114, 128)     0           batch_normalization_3[0][0]      \n",
            "__________________________________________________________________________________________________\n",
            "conv1d_2 (Conv1D)               (None, 38, 256)      360704      activation_1[0][0]               \n",
            "__________________________________________________________________________________________________\n",
            "conv1d_5 (Conv1D)               (None, 38, 256)      360704      activation_4[0][0]               \n",
            "__________________________________________________________________________________________________\n",
            "activation_2 (Activation)       (None, 38, 256)      0           conv1d_2[0][0]                   \n",
            "__________________________________________________________________________________________________\n",
            "activation_5 (Activation)       (None, 38, 256)      0           conv1d_5[0][0]                   \n",
            "__________________________________________________________________________________________________\n",
            "concatenate (Concatenate)       (None, 38, 768)      0           activation_2[0][0]               \n",
            "                                                                 activation_5[0][0]               \n",
            "                                                                 activation_2[0][0]               \n",
            "__________________________________________________________________________________________________\n",
            "concatenate_1 (Concatenate)     (None, 38, 768)      0           activation_5[0][0]               \n",
            "                                                                 activation_2[0][0]               \n",
            "                                                                 activation_5[0][0]               \n",
            "__________________________________________________________________________________________________\n",
            "concatenate_2 (Concatenate)     (None, 38, 1536)     0           concatenate[0][0]                \n",
            "                                                                 concatenate_1[0][0]              \n",
            "__________________________________________________________________________________________________\n",
            "flatten (Flatten)               (None, 58368)        0           concatenate_2[0][0]              \n",
            "__________________________________________________________________________________________________\n",
            "reshape (Reshape)               (None, 1, 58368)     0           flatten[0][0]                    \n",
            "__________________________________________________________________________________________________\n",
            "conv1d_6 (Conv1D)               (None, 1, 256)       14942464    reshape[0][0]                    \n",
            "__________________________________________________________________________________________________\n",
            "batch_normalization_4 (BatchNor (None, 1, 256)       1024        conv1d_6[0][0]                   \n",
            "__________________________________________________________________________________________________\n",
            "activation_6 (Activation)       (None, 1, 256)       0           batch_normalization_4[0][0]      \n",
            "__________________________________________________________________________________________________\n",
            "conv1d_7 (Conv1D)               (None, 1, 256)       65792       activation_6[0][0]               \n",
            "__________________________________________________________________________________________________\n",
            "batch_normalization_5 (BatchNor (None, 1, 256)       1024        conv1d_7[0][0]                   \n",
            "__________________________________________________________________________________________________\n",
            "activation_7 (Activation)       (None, 1, 256)       0           batch_normalization_5[0][0]      \n",
            "__________________________________________________________________________________________________\n",
            "conv1d_8 (Conv1D)               (None, 1, 256)       65792       activation_7[0][0]               \n",
            "__________________________________________________________________________________________________\n",
            "batch_normalization_6 (BatchNor (None, 1, 256)       1024        conv1d_8[0][0]                   \n",
            "__________________________________________________________________________________________________\n",
            "activation_8 (Activation)       (None, 1, 256)       0           batch_normalization_6[0][0]      \n",
            "__________________________________________________________________________________________________\n",
            "conv1d_9 (Conv1D)               (None, 1, 256)       65792       activation_8[0][0]               \n",
            "__________________________________________________________________________________________________\n",
            "batch_normalization_7 (BatchNor (None, 1, 256)       1024        conv1d_9[0][0]                   \n",
            "__________________________________________________________________________________________________\n",
            "add (Add)                       (None, 1, 256)       0           batch_normalization_7[0][0]      \n",
            "                                                                 activation_7[0][0]               \n",
            "__________________________________________________________________________________________________\n",
            "activation_9 (Activation)       (None, 1, 256)       0           add[0][0]                        \n",
            "__________________________________________________________________________________________________\n",
            "conv1d_10 (Conv1D)              (None, 1, 256)       65792       activation_9[0][0]               \n",
            "__________________________________________________________________________________________________\n",
            "batch_normalization_8 (BatchNor (None, 1, 256)       1024        conv1d_10[0][0]                  \n",
            "__________________________________________________________________________________________________\n",
            "activation_10 (Activation)      (None, 1, 256)       0           batch_normalization_8[0][0]      \n",
            "__________________________________________________________________________________________________\n",
            "conv1d_11 (Conv1D)              (None, 1, 256)       65792       activation_10[0][0]              \n",
            "__________________________________________________________________________________________________\n",
            "batch_normalization_9 (BatchNor (None, 1, 256)       1024        conv1d_11[0][0]                  \n",
            "__________________________________________________________________________________________________\n",
            "add_1 (Add)                     (None, 1, 256)       0           batch_normalization_9[0][0]      \n",
            "                                                                 activation_9[0][0]               \n",
            "__________________________________________________________________________________________________\n",
            "activation_11 (Activation)      (None, 1, 256)       0           add_1[0][0]                      \n",
            "__________________________________________________________________________________________________\n",
            "conv1d_12 (Conv1D)              (None, 1, 128)       32896       activation_11[0][0]              \n",
            "__________________________________________________________________________________________________\n",
            "batch_normalization_10 (BatchNo (None, 1, 128)       512         conv1d_12[0][0]                  \n",
            "__________________________________________________________________________________________________\n",
            "activation_12 (Activation)      (None, 1, 128)       0           batch_normalization_10[0][0]     \n",
            "__________________________________________________________________________________________________\n",
            "conv1d_13 (Conv1D)              (None, 1, 64)        8256        activation_12[0][0]              \n",
            "__________________________________________________________________________________________________\n",
            "batch_normalization_11 (BatchNo (None, 1, 64)        256         conv1d_13[0][0]                  \n",
            "__________________________________________________________________________________________________\n",
            "activation_13 (Activation)      (None, 1, 64)        0           batch_normalization_11[0][0]     \n",
            "__________________________________________________________________________________________________\n",
            "flatten_1 (Flatten)             (None, 64)           0           activation_13[0][0]              \n",
            "__________________________________________________________________________________________________\n",
            "dense (Dense)                   (None, 1)            65          flatten_1[0][0]                  \n",
            "__________________________________________________________________________________________________\n",
            "reshape_1 (Reshape)             (None, 1, 1)         0           dense[0][0]                      \n",
            "==================================================================================================\n",
            "Total params: 16,224,513\n",
            "Trainable params: 16,220,289\n",
            "Non-trainable params: 4,224\n",
            "__________________________________________________________________________________________________\n",
            "bin-width: 0.30321716021097145 ps\n"
          ],
          "name": "stdout"
        },
        {
          "output_type": "display_data",
          "data": {
            "image/png": "[encoded data removed]",
            "text/plain": [
              "<Figure size 432x288 with 1 Axes>"
            ]
          },
          "metadata": {
            "tags": [],
            "needs_background": "light"
          }
        }
      ]
    }
  ]
}